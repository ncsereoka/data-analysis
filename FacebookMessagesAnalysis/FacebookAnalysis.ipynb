{
 "cells": [
  {
   "cell_type": "code",
   "execution_count": null,
   "metadata": {},
   "outputs": [],
   "source": [
    "import json"
   ]
  },
  {
   "cell_type": "code",
   "execution_count": null,
   "metadata": {},
   "outputs": [],
   "source": [
    "# Conversation (thread) properties:\n",
    "#\n",
    "# participants: object array:\n",
    "#        name: string\n",
    "#\n",
    "# messages: object array\n",
    "#        sender_name: string - coincides with one of the participants\n",
    "#        timestamp_ms: integer - unix time in ms\n",
    "#        content: string\n",
    "#        type: string - we'll focus on Generic (basic text)\n",
    "#\n",
    "# title: string\n",
    "#\n",
    "# is_still_participant: boolean\n",
    "#\n",
    "# thread_type: string\n",
    "#\n",
    "# thread_path: string"
   ]
  },
  {
   "cell_type": "code",
   "execution_count": null,
   "metadata": {},
   "outputs": [],
   "source": [
    "file = 'message_1.json'"
   ]
  },
  {
   "cell_type": "code",
   "execution_count": null,
   "metadata": {},
   "outputs": [],
   "source": [
    "with open(file) as jsonfile:\n",
    "    data = json.load(jsonfile)\n",
    "    participants = [p['name'] for p in data['participants']]\n",
    "    messages_all = data['messages']\n",
    "    messages_generic = [message for message in messages_all if message['type'] == 'Generic' and 'content' in message]\n",
    "    messages = messages_generic\n",
    "    \n",
    "    print(participants)\n",
    "    print(messages[0])"
   ]
  },
  {
   "cell_type": "code",
   "execution_count": null,
   "metadata": {},
   "outputs": [],
   "source": [
    "def wordListToFreqDict(wordlist):\n",
    "    wordfreq = [wordlist.count(p) for p in wordlist]\n",
    "    return dict(zip(wordlist,wordfreq))\n",
    "\n",
    "def sortFreqDict(freqdict):\n",
    "    aux = [(freqdict[key], key) for key in freqdict]\n",
    "    aux.sort()\n",
    "    aux.reverse()\n",
    "    return aux\n",
    "\n",
    "# get word frequency for given participant\n",
    "def word_freq(participant, messages):\n",
    "    messages_of_participant = []\n",
    "    for message in messages:\n",
    "        if message['sender_name'] == participant:\n",
    "            messages_of_participant.append(message['content'])\n",
    "    \n",
    "    content = []\n",
    "    for message in messages_of_participant:\n",
    "        content.extend(list(map(str.lower, message.split())))\n",
    "        \n",
    "    freqdict = wordListToFreqDict(content)\n",
    "    sortdict = sortFreqDict(freqdict)\n",
    "        \n",
    "    for entry in sortdict:\n",
    "        print(entry)"
   ]
  },
  {
   "cell_type": "code",
   "execution_count": null,
   "metadata": {},
   "outputs": [],
   "source": [
    "word_freq(participants[0], messages)"
   ]
  },
  {
   "cell_type": "code",
   "execution_count": null,
   "metadata": {},
   "outputs": [],
   "source": [
    "# questions for a participant\n",
    "def question_count(participant, messages):\n",
    "    messages_of_participant = []\n",
    "    for message in messages:\n",
    "        if message['sender_name'] == participant:\n",
    "            messages_of_participant.append(message['content'])\n",
    "    \n",
    "    count = 0\n",
    "    \n",
    "    for message in messages_of_participant:\n",
    "        if '?' in message:\n",
    "            count += 1\n",
    "            \n",
    "    return count"
   ]
  },
  {
   "cell_type": "code",
   "execution_count": null,
   "metadata": {},
   "outputs": [],
   "source": [
    "for p in participants:\n",
    "    print(p, 'question count:', question_count(p, messages))"
   ]
  },
  {
   "cell_type": "code",
   "execution_count": null,
   "metadata": {},
   "outputs": [],
   "source": [
    "# conversation starter\n",
    "def conversation_starter(participants, messages, interval=3600):\n",
    "    length = len(messages)\n",
    "    interval *= 1000\n",
    "    count = {}\n",
    "    for p in participants:\n",
    "        count[p] = 0\n",
    "        \n",
    "    # set the first conversation\n",
    "    count[messages[length - 1]['sender_name']] = 1\n",
    "    \n",
    "    for i in range(length - 2, -1, -1):\n",
    "        if messages[i]['timestamp_ms'] - messages[i + 1]['timestamp_ms'] > interval:\n",
    "            count[messages[i]['sender_name']] += 1\n",
    "            \n",
    "    return count"
   ]
  },
  {
   "cell_type": "code",
   "execution_count": null,
   "metadata": {
    "scrolled": true
   },
   "outputs": [],
   "source": [
    "interval = 3600\n",
    "convo = conversation_starter(participants, messages, interval)\n",
    "print('Conversations started (1 hour for a new convo):')\n",
    "for p in convo:\n",
    "    print(p, convo[p])"
   ]
  },
  {
   "cell_type": "code",
   "execution_count": null,
   "metadata": {},
   "outputs": [],
   "source": [
    "interval = 24 * 3600\n",
    "convo = conversation_starter(participants, messages, interval)\n",
    "print('Conversations started (1 day for a new convo):')\n",
    "for p in convo:\n",
    "    print(p, convo[p])"
   ]
  },
  {
   "cell_type": "code",
   "execution_count": null,
   "metadata": {},
   "outputs": [],
   "source": [
    "interval = 48 * 3600\n",
    "convo = conversation_starter(participants, messages, interval)\n",
    "print('Conversations started (2 days for a new convo):')\n",
    "for p in convo:\n",
    "    print(p, convo[p])"
   ]
  },
  {
   "cell_type": "code",
   "execution_count": null,
   "metadata": {},
   "outputs": [],
   "source": []
  }
 ],
 "metadata": {
  "kernelspec": {
   "display_name": "Python 3",
   "language": "python",
   "name": "python3"
  },
  "language_info": {
   "codemirror_mode": {
    "name": "ipython",
    "version": 3
   },
   "file_extension": ".py",
   "mimetype": "text/x-python",
   "name": "python",
   "nbconvert_exporter": "python",
   "pygments_lexer": "ipython3",
   "version": "3.7.3"
  }
 },
 "nbformat": 4,
 "nbformat_minor": 2
}
