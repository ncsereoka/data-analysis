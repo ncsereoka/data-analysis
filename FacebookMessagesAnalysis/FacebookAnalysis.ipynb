{
 "cells": [
  {
   "cell_type": "code",
   "execution_count": null,
   "metadata": {},
   "outputs": [],
   "source": [
    "import json"
   ]
  },
  {
   "cell_type": "code",
   "execution_count": null,
   "metadata": {},
   "outputs": [],
   "source": [
    "# Conversation (thread) properties:\n",
    "#\n",
    "# participants: object array:\n",
    "#        name: string\n",
    "#\n",
    "# messages: object array\n",
    "#        sender_name: string - coincides with one of the participants\n",
    "#        timestamp_ms: integer - unix time in ms\n",
    "#        content: string\n",
    "#        type: string - we'll focus on Generic (basic text)\n",
    "#\n",
    "# title: string\n",
    "#\n",
    "# is_still_participant: boolean\n",
    "#\n",
    "# thread_type: string\n",
    "#\n",
    "# thread_path: string"
   ]
  },
  {
   "cell_type": "code",
   "execution_count": null,
   "metadata": {},
   "outputs": [],
   "source": [
    "file = 'messages_1.json'"
   ]
  },
  {
   "cell_type": "code",
   "execution_count": null,
   "metadata": {},
   "outputs": [],
   "source": [
    "with open(file) as jsonfile:\n",
    "    data = json.load(jsonfile)\n",
    "    participants = [p['name'] for p in data['participants']]\n",
    "    messages_all = data['messages']\n",
    "    messages_generic = [message for message in messages_all if message['type'] == 'Generic' and 'content' in message]\n",
    "    messages = messages_generic\n",
    "    \n",
    "    print(participants)\n",
    "    print(messages[0])"
   ]
  },
  {
   "cell_type": "code",
   "execution_count": null,
   "metadata": {},
   "outputs": [],
   "source": [
    "def wordListToFreqDict(wordlist):\n",
    "    wordfreq = [wordlist.count(p) for p in wordlist]\n",
    "    return dict(zip(wordlist,wordfreq))\n",
    "\n",
    "def sortFreqDict(freqdict):\n",
    "    aux = [(freqdict[key], key) for key in freqdict]\n",
    "    aux.sort()\n",
    "    aux.reverse()\n",
    "    return aux\n",
    "\n",
    "# get word frequency for given participant\n",
    "def word_freq(participant, messages):\n",
    "    messages_of_participant = []\n",
    "    for message in messages:\n",
    "        if message['sender_name'] == participant:\n",
    "            messages_of_participant.append(message['content'])\n",
    "    \n",
    "    content = []\n",
    "    for message in messages_of_participant:\n",
    "        content.extend(list(map(str.lower, message.split())))\n",
    "        \n",
    "    freqdict = wordListToFreqDict(content)\n",
    "    sortdict = sortFreqDict(freqdict)\n",
    "        \n",
    "    for entry in sortdict:\n",
    "        print(entry)"
   ]
  },
  {
   "cell_type": "code",
   "execution_count": null,
   "metadata": {},
   "outputs": [],
   "source": [
    "word_freq(participants[0], messages)"
   ]
  },
  {
   "cell_type": "code",
   "execution_count": null,
   "metadata": {},
   "outputs": [],
   "source": [
    "# questions for a participant\n",
    "def question_count(participant, messages):\n",
    "    messages_of_participant = []\n",
    "    for message in messages:\n",
    "        if message['sender_name'] == participant:\n",
    "            messages_of_participant.append(message['content'])\n",
    "    \n",
    "    count = 0\n",
    "    \n",
    "    for message in messages_of_participant:\n",
    "        if '?' in message:\n",
    "            count += 1\n",
    "            \n",
    "    return count"
   ]
  },
  {
   "cell_type": "code",
   "execution_count": null,
   "metadata": {},
   "outputs": [],
   "source": [
    "for p in participants:\n",
    "    print(p, 'question count:', question_count(p, messages))"
   ]
  },
  {
   "cell_type": "code",
   "execution_count": null,
   "metadata": {},
   "outputs": [],
   "source": [
    "# conversation starter\n",
    "def conversation_starter(participants, messages, interval=3600):\n",
    "    length = len(messages)\n",
    "    interval *= 1000\n",
    "    count = {}\n",
    "    for p in participants:\n",
    "        count[p] = 0\n",
    "        \n",
    "    # set the first conversation\n",
    "    count[messages[length - 1]['sender_name']] = 1\n",
    "    \n",
    "    for i in range(length - 2, -1, -1):\n",
    "        crt_int = messages[i]['timestamp_ms'] - messages[i + 1]['timestamp_ms']\n",
    "        if crt_int > interval and messages[i]['sender_name'] != messages[i + 1]['sender_name']:\n",
    "            count[messages[i]['sender_name']] += 1\n",
    "            \n",
    "    return count"
   ]
  },
  {
   "cell_type": "code",
   "execution_count": null,
   "metadata": {
    "scrolled": true
   },
   "outputs": [],
   "source": [
    "interval = 3600\n",
    "convo = conversation_starter(participants, messages, interval)\n",
    "print('Conversations started (1 hour for a new convo):')\n",
    "for p in convo:\n",
    "    print(p, convo[p])"
   ]
  },
  {
   "cell_type": "code",
   "execution_count": null,
   "metadata": {},
   "outputs": [],
   "source": [
    "interval = 24 * 3600\n",
    "convo = conversation_starter(participants, messages, interval)\n",
    "print('Conversations started (1 day for a new convo):')\n",
    "for p in convo:\n",
    "    print(p, convo[p])"
   ]
  },
  {
   "cell_type": "code",
   "execution_count": null,
   "metadata": {},
   "outputs": [],
   "source": [
    "interval = 48 * 3600\n",
    "convo = conversation_starter(participants, messages, interval)\n",
    "print('Conversations started (2 days for a new convo):')\n",
    "for p in convo:\n",
    "    print(p, convo[p])"
   ]
  },
  {
   "cell_type": "code",
   "execution_count": null,
   "metadata": {},
   "outputs": [],
   "source": [
    "def avg_response_time(participants, messages, interval=3600):\n",
    "    interval *= 1000\n",
    "    length = len(messages)\n",
    "    count = {}\n",
    "    for p in participants:\n",
    "        count[p] = {}\n",
    "        count[p]['ttime'] = 0\n",
    "        count[p]['responses'] = 0\n",
    "        \n",
    "    for i in range(length - 2, -1, -1):\n",
    "        crt_int = messages[i]['timestamp_ms'] - messages[i + 1]['timestamp_ms']\n",
    "        if crt_int < interval and messages[i]['sender_name'] != messages[i + 1]['sender_name']:\n",
    "            count[messages[i]['sender_name']]['responses'] += 1\n",
    "            count[messages[i]['sender_name']]['ttime'] += crt_int\n",
    "            \n",
    "    for p in participants:\n",
    "        count[p]['avg_time'] = round(count[p]['ttime'] / (count[p]['responses'] * 1000), 3)\n",
    "            \n",
    "    return count"
   ]
  },
  {
   "cell_type": "code",
   "execution_count": null,
   "metadata": {},
   "outputs": [],
   "source": [
    "interval = 300\n",
    "avgtime = avg_response_time(participants, messages, interval)\n",
    "print('Average response time (with response time no higher than 5 mins):')\n",
    "for p in avgtime:\n",
    "    print(p, avgtime[p]['avg_time'], 'sec')"
   ]
  },
  {
   "cell_type": "code",
   "execution_count": null,
   "metadata": {},
   "outputs": [],
   "source": [
    "def message_percentage(participants, messages):\n",
    "    count = {}\n",
    "    for p in participants:\n",
    "        count[p] = {}\n",
    "        count[p]['number'] = 0\n",
    "        \n",
    "    for m in messages:\n",
    "        count[m['sender_name']]['number'] += 1\n",
    "        \n",
    "    arrlen = len(messages)\n",
    "    \n",
    "    for p in participants:\n",
    "        count[p]['percentage'] = round(count[p]['number']/arrlen * 100, 2)\n",
    "        \n",
    "    return count\n",
    "    "
   ]
  },
  {
   "cell_type": "code",
   "execution_count": null,
   "metadata": {},
   "outputs": [],
   "source": [
    "percentages = message_percentage(participants, messages)\n",
    "for p in percentages:\n",
    "    print(p, percentages[p]['percentage'], '% of messages')"
   ]
  },
  {
   "cell_type": "code",
   "execution_count": null,
   "metadata": {},
   "outputs": [],
   "source": [
    "def avg_message_len(participants, messages):\n",
    "    count = {}\n",
    "    for p in participants:\n",
    "        count[p] = {}\n",
    "        count[p]['number'] = 0\n",
    "        count[p]['tlength'] = 0\n",
    "        \n",
    "    for m in messages:\n",
    "        count[m['sender_name']]['number'] += 1\n",
    "        count[m['sender_name']]['tlength'] += len(m['content'])\n",
    "    \n",
    "    for p in participants:\n",
    "        count[p]['avglen'] = round(count[p]['tlength']/count[p]['number'], 2)\n",
    "        \n",
    "    return count"
   ]
  },
  {
   "cell_type": "code",
   "execution_count": null,
   "metadata": {},
   "outputs": [],
   "source": [
    "avglen = avg_message_len(participants, messages)\n",
    "print('Average message length:')\n",
    "for p in avglen:\n",
    "    print(p, avglen[p]['avglen'], 'characters')"
   ]
  },
  {
   "cell_type": "code",
   "execution_count": null,
   "metadata": {},
   "outputs": [],
   "source": [
    "def average_convo(messages, interval=3600):\n",
    "    interval *= 1000\n",
    "    length = len(messages)\n",
    "    \n",
    "    convos = 0\n",
    "    for i in range(length - 2, -1, -1):\n",
    "        crt_int = messages[i]['timestamp_ms'] - messages[i + 1]['timestamp_ms']\n",
    "        if crt_int > interval:\n",
    "            convos += 1\n",
    "\n",
    "    return round(len(messages)/convos, 2)"
   ]
  },
  {
   "cell_type": "code",
   "execution_count": null,
   "metadata": {},
   "outputs": [],
   "source": [
    "print('Average conversation length (a convo delimited by 1 hour pauses):', average_convo(messages), 'messages')"
   ]
  }
 ],
 "metadata": {
  "kernelspec": {
   "display_name": "Python 3",
   "language": "python",
   "name": "python3"
  },
  "language_info": {
   "codemirror_mode": {
    "name": "ipython",
    "version": 3
   },
   "file_extension": ".py",
   "mimetype": "text/x-python",
   "name": "python",
   "nbconvert_exporter": "python",
   "pygments_lexer": "ipython3",
   "version": "3.7.3"
  }
 },
 "nbformat": 4,
 "nbformat_minor": 2
}
